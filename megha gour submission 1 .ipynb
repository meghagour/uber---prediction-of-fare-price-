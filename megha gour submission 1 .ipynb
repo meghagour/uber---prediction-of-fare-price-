{
 "cells": [
  {
   "cell_type": "markdown",
   "id": "f75c19be",
   "metadata": {},
   "source": [
    "# Importing all the Necessary Library..¶"
   ]
  },
  {
   "cell_type": "code",
   "execution_count": 1,
   "id": "348c0b2b",
   "metadata": {},
   "outputs": [
    {
     "name": "stderr",
     "output_type": "stream",
     "text": [
      "C:\\Users\\MG\\AppData\\Roaming\\Python\\Python311\\site-packages\\pandas\\core\\arrays\\masked.py:60: UserWarning: Pandas requires version '1.3.6' or newer of 'bottleneck' (version '1.3.5' currently installed).\n",
      "  from pandas.core import (\n"
     ]
    }
   ],
   "source": [
    "import numpy as np\n",
    "import pandas as pd\n",
    "import matplotlib.pyplot as plt\n",
    "import seaborn as sns\n",
    "import warnings\n",
    "warnings.filterwarnings('ignore')"
   ]
  },
  {
   "cell_type": "code",
   "execution_count": 2,
   "id": "175aaa83",
   "metadata": {},
   "outputs": [],
   "source": [
    "df = pd.read_csv('uber.csv')"
   ]
  },
  {
   "cell_type": "code",
   "execution_count": 3,
   "id": "de12c9c4",
   "metadata": {},
   "outputs": [
    {
     "data": {
      "text/html": [
       "<div>\n",
       "<style scoped>\n",
       "    .dataframe tbody tr th:only-of-type {\n",
       "        vertical-align: middle;\n",
       "    }\n",
       "\n",
       "    .dataframe tbody tr th {\n",
       "        vertical-align: top;\n",
       "    }\n",
       "\n",
       "    .dataframe thead th {\n",
       "        text-align: right;\n",
       "    }\n",
       "</style>\n",
       "<table border=\"1\" class=\"dataframe\">\n",
       "  <thead>\n",
       "    <tr style=\"text-align: right;\">\n",
       "      <th></th>\n",
       "      <th>Unnamed: 0</th>\n",
       "      <th>key</th>\n",
       "      <th>fare_amount</th>\n",
       "      <th>pickup_datetime</th>\n",
       "      <th>pickup_longitude</th>\n",
       "      <th>pickup_latitude</th>\n",
       "      <th>dropoff_longitude</th>\n",
       "      <th>dropoff_latitude</th>\n",
       "      <th>passenger_count</th>\n",
       "    </tr>\n",
       "  </thead>\n",
       "  <tbody>\n",
       "    <tr>\n",
       "      <th>0</th>\n",
       "      <td>24238194</td>\n",
       "      <td>2015-05-07 19:52:06.0000003</td>\n",
       "      <td>7.5</td>\n",
       "      <td>2015-05-07 19:52:06 UTC</td>\n",
       "      <td>-73.999817</td>\n",
       "      <td>40.738354</td>\n",
       "      <td>-73.999512</td>\n",
       "      <td>40.723217</td>\n",
       "      <td>1</td>\n",
       "    </tr>\n",
       "    <tr>\n",
       "      <th>1</th>\n",
       "      <td>27835199</td>\n",
       "      <td>2009-07-17 20:04:56.0000002</td>\n",
       "      <td>7.7</td>\n",
       "      <td>2009-07-17 20:04:56 UTC</td>\n",
       "      <td>-73.994355</td>\n",
       "      <td>40.728225</td>\n",
       "      <td>-73.994710</td>\n",
       "      <td>40.750325</td>\n",
       "      <td>1</td>\n",
       "    </tr>\n",
       "    <tr>\n",
       "      <th>2</th>\n",
       "      <td>44984355</td>\n",
       "      <td>2009-08-24 21:45:00.00000061</td>\n",
       "      <td>12.9</td>\n",
       "      <td>2009-08-24 21:45:00 UTC</td>\n",
       "      <td>-74.005043</td>\n",
       "      <td>40.740770</td>\n",
       "      <td>-73.962565</td>\n",
       "      <td>40.772647</td>\n",
       "      <td>1</td>\n",
       "    </tr>\n",
       "    <tr>\n",
       "      <th>3</th>\n",
       "      <td>25894730</td>\n",
       "      <td>2009-06-26 08:22:21.0000001</td>\n",
       "      <td>5.3</td>\n",
       "      <td>2009-06-26 08:22:21 UTC</td>\n",
       "      <td>-73.976124</td>\n",
       "      <td>40.790844</td>\n",
       "      <td>-73.965316</td>\n",
       "      <td>40.803349</td>\n",
       "      <td>3</td>\n",
       "    </tr>\n",
       "    <tr>\n",
       "      <th>4</th>\n",
       "      <td>17610152</td>\n",
       "      <td>2014-08-28 17:47:00.000000188</td>\n",
       "      <td>16.0</td>\n",
       "      <td>2014-08-28 17:47:00 UTC</td>\n",
       "      <td>-73.925023</td>\n",
       "      <td>40.744085</td>\n",
       "      <td>-73.973082</td>\n",
       "      <td>40.761247</td>\n",
       "      <td>5</td>\n",
       "    </tr>\n",
       "  </tbody>\n",
       "</table>\n",
       "</div>"
      ],
      "text/plain": [
       "   Unnamed: 0                            key  fare_amount  \\\n",
       "0    24238194    2015-05-07 19:52:06.0000003          7.5   \n",
       "1    27835199    2009-07-17 20:04:56.0000002          7.7   \n",
       "2    44984355   2009-08-24 21:45:00.00000061         12.9   \n",
       "3    25894730    2009-06-26 08:22:21.0000001          5.3   \n",
       "4    17610152  2014-08-28 17:47:00.000000188         16.0   \n",
       "\n",
       "           pickup_datetime  pickup_longitude  pickup_latitude  \\\n",
       "0  2015-05-07 19:52:06 UTC        -73.999817        40.738354   \n",
       "1  2009-07-17 20:04:56 UTC        -73.994355        40.728225   \n",
       "2  2009-08-24 21:45:00 UTC        -74.005043        40.740770   \n",
       "3  2009-06-26 08:22:21 UTC        -73.976124        40.790844   \n",
       "4  2014-08-28 17:47:00 UTC        -73.925023        40.744085   \n",
       "\n",
       "   dropoff_longitude  dropoff_latitude  passenger_count  \n",
       "0         -73.999512         40.723217                1  \n",
       "1         -73.994710         40.750325                1  \n",
       "2         -73.962565         40.772647                1  \n",
       "3         -73.965316         40.803349                3  \n",
       "4         -73.973082         40.761247                5  "
      ]
     },
     "execution_count": 3,
     "metadata": {},
     "output_type": "execute_result"
    }
   ],
   "source": [
    "df.head()"
   ]
  },
  {
   "cell_type": "markdown",
   "id": "569e4539",
   "metadata": {},
   "source": [
    "There are some issue looking in a columns its show I think Key column will be in the first Columns inplace of Unnmaed columns.And i think there is two pick up date columns as well."
   ]
  },
  {
   "cell_type": "code",
   "execution_count": 4,
   "id": "8e1a1bce",
   "metadata": {},
   "outputs": [
    {
     "data": {
      "text/plain": [
       "(200000, 9)"
      ]
     },
     "execution_count": 4,
     "metadata": {},
     "output_type": "execute_result"
    }
   ],
   "source": [
    "df.shape"
   ]
  },
  {
   "cell_type": "code",
   "execution_count": 5,
   "id": "b8697420",
   "metadata": {},
   "outputs": [
    {
     "name": "stdout",
     "output_type": "stream",
     "text": [
      "<class 'pandas.core.frame.DataFrame'>\n",
      "RangeIndex: 200000 entries, 0 to 199999\n",
      "Data columns (total 9 columns):\n",
      " #   Column             Non-Null Count   Dtype  \n",
      "---  ------             --------------   -----  \n",
      " 0   Unnamed: 0         200000 non-null  int64  \n",
      " 1   key                200000 non-null  object \n",
      " 2   fare_amount        200000 non-null  float64\n",
      " 3   pickup_datetime    200000 non-null  object \n",
      " 4   pickup_longitude   200000 non-null  float64\n",
      " 5   pickup_latitude    200000 non-null  float64\n",
      " 6   dropoff_longitude  199999 non-null  float64\n",
      " 7   dropoff_latitude   199999 non-null  float64\n",
      " 8   passenger_count    200000 non-null  int64  \n",
      "dtypes: float64(5), int64(2), object(2)\n",
      "memory usage: 13.7+ MB\n"
     ]
    }
   ],
   "source": [
    "df.info()"
   ]
  },
  {
   "cell_type": "code",
   "execution_count": 6,
   "id": "8565e40e",
   "metadata": {},
   "outputs": [],
   "source": [
    "df.rename(columns={'Unnamed: 0':'Keys'},inplace=True) \n",
    "# Here we are replacing the 'unnamed column' to 'keys' as it is redundant column "
   ]
  },
  {
   "cell_type": "code",
   "execution_count": 7,
   "id": "5c38166c",
   "metadata": {},
   "outputs": [],
   "source": [
    "df.drop(['key'] , inplace = True , axis=1) # Dropping the 'key' column as well .\n"
   ]
  },
  {
   "cell_type": "code",
   "execution_count": 8,
   "id": "1c0845ef",
   "metadata": {},
   "outputs": [
    {
     "data": {
      "text/plain": [
       "Keys                 0\n",
       "fare_amount          0\n",
       "pickup_datetime      0\n",
       "pickup_longitude     0\n",
       "pickup_latitude      0\n",
       "dropoff_longitude    1\n",
       "dropoff_latitude     1\n",
       "passenger_count      0\n",
       "dtype: int64"
      ]
     },
     "execution_count": 8,
     "metadata": {},
     "output_type": "execute_result"
    }
   ],
   "source": [
    "df.isnull().sum() # We found there are only 2 null values ."
   ]
  },
  {
   "cell_type": "code",
   "execution_count": 9,
   "id": "2201e7e2",
   "metadata": {},
   "outputs": [],
   "source": [
    "def is_title(col) :\n",
    "  return col.title()\n",
    "\n",
    "\n",
    "df.columns = df.columns.map(is_title)"
   ]
  },
  {
   "cell_type": "code",
   "execution_count": 10,
   "id": "7e9b9f86",
   "metadata": {},
   "outputs": [],
   "source": [
    "df['Pickup_Datetime'] = pd.to_datetime(df['Pickup_Datetime'])"
   ]
  },
  {
   "cell_type": "code",
   "execution_count": 11,
   "id": "0f74afdf",
   "metadata": {},
   "outputs": [],
   "source": [
    "df.dropna(inplace=True)"
   ]
  },
  {
   "cell_type": "code",
   "execution_count": 12,
   "id": "6a975cde",
   "metadata": {},
   "outputs": [
    {
     "data": {
      "text/plain": [
       "Index(['Keys', 'Fare_Amount', 'Pickup_Datetime', 'Pickup_Longitude',\n",
       "       'Pickup_Latitude', 'Dropoff_Longitude', 'Dropoff_Latitude',\n",
       "       'Passenger_Count'],\n",
       "      dtype='object')"
      ]
     },
     "execution_count": 12,
     "metadata": {},
     "output_type": "execute_result"
    }
   ],
   "source": [
    "df.columns"
   ]
  },
  {
   "cell_type": "code",
   "execution_count": 13,
   "id": "cb468a97",
   "metadata": {},
   "outputs": [],
   "source": [
    "df['Year']  = df['Pickup_Datetime'].dt.year\n",
    "df['Month'] = df['Pickup_Datetime'].dt.month_name()\n",
    "df['Hour']  = df['Pickup_Datetime'].dt.hour\n",
    "df['Day'] = df['Pickup_Datetime'].dt.day_name()"
   ]
  },
  {
   "cell_type": "code",
   "execution_count": 14,
   "id": "6aafbdb0",
   "metadata": {},
   "outputs": [],
   "source": [
    "df['Hour'] = df['Hour'].replace(0,24)"
   ]
  },
  {
   "cell_type": "code",
   "execution_count": 15,
   "id": "93ff6070",
   "metadata": {},
   "outputs": [],
   "source": [
    "def time_zone(col):\n",
    "    i = col\n",
    "    if i >= 7 and i < 12:\n",
    "      return \"Morning\"\n",
    "    elif i >= 12 and i < 17:\n",
    "      return \"Afternoon\"\n",
    "    elif i >= 17 and i < 22:\n",
    "      return \"Evening\"\n",
    "    else :\n",
    "      return \"Night\"\n",
    "\n",
    "df['Time_Zone'] = df.Hour.map(time_zone)"
   ]
  },
  {
   "cell_type": "markdown",
   "id": "5f7125f9",
   "metadata": {},
   "source": [
    "The code defines a function called haversin that calculates the distance between two geographical points on the Earth's surface given their latitude and longitude using the Haversine formula. Here’s a breakdown of what the code does:\n",
    "\n",
    "Function Definition: The function haversin takes four parameters: lat1, lon1, lat2, and lon2, which represent the latitude and longitude of two points (Point 1 and Point 2).\n",
    "\n",
    "Radius of the Earth: The variable R is set to 6373.0, which is the approximate radius of the Earth in kilometers.\n",
    "\n",
    "Converting Degrees to Radians: The latitudes and longitudes provided in degrees are converted to radians using np.radians(). This is necessary because trigonometric functions in Python (from the NumPy library) expect input in radians.\n",
    "\n",
    "Calculating Differences: The differences in latitude (dlat) and longitude (dlon) between the two points are calculated.\n",
    "\n",
    "Haversine Formula:\n",
    "\n",
    "The formula calculates the square of half the chord length between the points:"
   ]
  },
  {
   "cell_type": "code",
   "execution_count": 16,
   "id": "97521eb2",
   "metadata": {},
   "outputs": [],
   "source": [
    "def haversin(lat1,lon1,lat2,lon2):\n",
    "    R = 6373.0  # Radians Values..\n",
    "\n",
    "    lat1 = np.radians(lat1)\n",
    "    lon1 = np.radians(lon1)\n",
    "    lat2 = np.radians(lat2)\n",
    "    lon2 = np.radians(lon2)\n",
    "\n",
    "    # Haversine formula\n",
    "    dlat = lat2 - lat1\n",
    "    dlon = lon2 - lon1\n",
    "    a = np.sin(dlat / 2)**2 + np.cos(lat1) * np.cos(lat2) * np.sin(dlon / 2)**2\n",
    "    c = 2 * np.arctan2(np.sqrt(a), np.sqrt(1 - a))\n",
    "    distance = R * c\n",
    "\n",
    "    return distance\n",
    "\n",
    "df['Distance_Km']=haversin(df['Pickup_Latitude'],df['Pickup_Longitude'],df['Dropoff_Latitude'],df['Dropoff_Longitude'])"
   ]
  },
  {
   "cell_type": "code",
   "execution_count": 17,
   "id": "e7a8ad5c",
   "metadata": {},
   "outputs": [
    {
     "name": "stdout",
     "output_type": "stream",
     "text": [
      "Duplicated Values are 0\n"
     ]
    },
    {
     "data": {
      "text/html": [
       "<div>\n",
       "<style scoped>\n",
       "    .dataframe tbody tr th:only-of-type {\n",
       "        vertical-align: middle;\n",
       "    }\n",
       "\n",
       "    .dataframe tbody tr th {\n",
       "        vertical-align: top;\n",
       "    }\n",
       "\n",
       "    .dataframe thead th {\n",
       "        text-align: right;\n",
       "    }\n",
       "</style>\n",
       "<table border=\"1\" class=\"dataframe\">\n",
       "  <thead>\n",
       "    <tr style=\"text-align: right;\">\n",
       "      <th></th>\n",
       "      <th>Keys</th>\n",
       "      <th>Fare_Amount</th>\n",
       "      <th>Pickup_Datetime</th>\n",
       "      <th>Pickup_Longitude</th>\n",
       "      <th>Pickup_Latitude</th>\n",
       "      <th>Dropoff_Longitude</th>\n",
       "      <th>Dropoff_Latitude</th>\n",
       "      <th>Passenger_Count</th>\n",
       "      <th>Year</th>\n",
       "      <th>Month</th>\n",
       "      <th>Hour</th>\n",
       "      <th>Day</th>\n",
       "      <th>Time_Zone</th>\n",
       "      <th>Distance_Km</th>\n",
       "    </tr>\n",
       "  </thead>\n",
       "  <tbody>\n",
       "    <tr>\n",
       "      <th>0</th>\n",
       "      <td>24238194</td>\n",
       "      <td>7.5</td>\n",
       "      <td>2015-05-07 19:52:06+00:00</td>\n",
       "      <td>-73.999817</td>\n",
       "      <td>40.738354</td>\n",
       "      <td>-73.999512</td>\n",
       "      <td>40.723217</td>\n",
       "      <td>1</td>\n",
       "      <td>2015</td>\n",
       "      <td>May</td>\n",
       "      <td>19</td>\n",
       "      <td>Thursday</td>\n",
       "      <td>Evening</td>\n",
       "      <td>1.683851</td>\n",
       "    </tr>\n",
       "    <tr>\n",
       "      <th>1</th>\n",
       "      <td>27835199</td>\n",
       "      <td>7.7</td>\n",
       "      <td>2009-07-17 20:04:56+00:00</td>\n",
       "      <td>-73.994355</td>\n",
       "      <td>40.728225</td>\n",
       "      <td>-73.994710</td>\n",
       "      <td>40.750325</td>\n",
       "      <td>1</td>\n",
       "      <td>2009</td>\n",
       "      <td>July</td>\n",
       "      <td>20</td>\n",
       "      <td>Friday</td>\n",
       "      <td>Evening</td>\n",
       "      <td>2.458361</td>\n",
       "    </tr>\n",
       "    <tr>\n",
       "      <th>2</th>\n",
       "      <td>44984355</td>\n",
       "      <td>12.9</td>\n",
       "      <td>2009-08-24 21:45:00+00:00</td>\n",
       "      <td>-74.005043</td>\n",
       "      <td>40.740770</td>\n",
       "      <td>-73.962565</td>\n",
       "      <td>40.772647</td>\n",
       "      <td>1</td>\n",
       "      <td>2009</td>\n",
       "      <td>August</td>\n",
       "      <td>21</td>\n",
       "      <td>Monday</td>\n",
       "      <td>Evening</td>\n",
       "      <td>5.037958</td>\n",
       "    </tr>\n",
       "    <tr>\n",
       "      <th>3</th>\n",
       "      <td>25894730</td>\n",
       "      <td>5.3</td>\n",
       "      <td>2009-06-26 08:22:21+00:00</td>\n",
       "      <td>-73.976124</td>\n",
       "      <td>40.790844</td>\n",
       "      <td>-73.965316</td>\n",
       "      <td>40.803349</td>\n",
       "      <td>3</td>\n",
       "      <td>2009</td>\n",
       "      <td>June</td>\n",
       "      <td>8</td>\n",
       "      <td>Friday</td>\n",
       "      <td>Morning</td>\n",
       "      <td>1.662205</td>\n",
       "    </tr>\n",
       "    <tr>\n",
       "      <th>4</th>\n",
       "      <td>17610152</td>\n",
       "      <td>16.0</td>\n",
       "      <td>2014-08-28 17:47:00+00:00</td>\n",
       "      <td>-73.925023</td>\n",
       "      <td>40.744085</td>\n",
       "      <td>-73.973082</td>\n",
       "      <td>40.761247</td>\n",
       "      <td>5</td>\n",
       "      <td>2014</td>\n",
       "      <td>August</td>\n",
       "      <td>17</td>\n",
       "      <td>Thursday</td>\n",
       "      <td>Evening</td>\n",
       "      <td>4.476855</td>\n",
       "    </tr>\n",
       "  </tbody>\n",
       "</table>\n",
       "</div>"
      ],
      "text/plain": [
       "       Keys  Fare_Amount           Pickup_Datetime  Pickup_Longitude  \\\n",
       "0  24238194          7.5 2015-05-07 19:52:06+00:00        -73.999817   \n",
       "1  27835199          7.7 2009-07-17 20:04:56+00:00        -73.994355   \n",
       "2  44984355         12.9 2009-08-24 21:45:00+00:00        -74.005043   \n",
       "3  25894730          5.3 2009-06-26 08:22:21+00:00        -73.976124   \n",
       "4  17610152         16.0 2014-08-28 17:47:00+00:00        -73.925023   \n",
       "\n",
       "   Pickup_Latitude  Dropoff_Longitude  Dropoff_Latitude  Passenger_Count  \\\n",
       "0        40.738354         -73.999512         40.723217                1   \n",
       "1        40.728225         -73.994710         40.750325                1   \n",
       "2        40.740770         -73.962565         40.772647                1   \n",
       "3        40.790844         -73.965316         40.803349                3   \n",
       "4        40.744085         -73.973082         40.761247                5   \n",
       "\n",
       "   Year   Month  Hour       Day Time_Zone  Distance_Km  \n",
       "0  2015     May    19  Thursday   Evening     1.683851  \n",
       "1  2009    July    20    Friday   Evening     2.458361  \n",
       "2  2009  August    21    Monday   Evening     5.037958  \n",
       "3  2009    June     8    Friday   Morning     1.662205  \n",
       "4  2014  August    17  Thursday   Evening     4.476855  "
      ]
     },
     "execution_count": 17,
     "metadata": {},
     "output_type": "execute_result"
    }
   ],
   "source": [
    "print(f'Duplicated Values are {df.duplicated().sum()}')  # Looking uponj that there are no duplicates value in the dataset \n",
    "df.head()"
   ]
  },
  {
   "cell_type": "code",
   "execution_count": 18,
   "id": "323ef4a1",
   "metadata": {},
   "outputs": [
    {
     "data": {
      "text/html": [
       "<div>\n",
       "<style scoped>\n",
       "    .dataframe tbody tr th:only-of-type {\n",
       "        vertical-align: middle;\n",
       "    }\n",
       "\n",
       "    .dataframe tbody tr th {\n",
       "        vertical-align: top;\n",
       "    }\n",
       "\n",
       "    .dataframe thead th {\n",
       "        text-align: right;\n",
       "    }\n",
       "</style>\n",
       "<table border=\"1\" class=\"dataframe\">\n",
       "  <thead>\n",
       "    <tr style=\"text-align: right;\">\n",
       "      <th></th>\n",
       "      <th>Fare_Amount</th>\n",
       "      <th>Passenger_Count</th>\n",
       "      <th>Year</th>\n",
       "      <th>Hour</th>\n",
       "      <th>Distance_Km</th>\n",
       "    </tr>\n",
       "  </thead>\n",
       "  <tbody>\n",
       "    <tr>\n",
       "      <th>count</th>\n",
       "      <td>199999.000000</td>\n",
       "      <td>199999.000000</td>\n",
       "      <td>199999.000000</td>\n",
       "      <td>199999.000000</td>\n",
       "      <td>199999.000000</td>\n",
       "    </tr>\n",
       "    <tr>\n",
       "      <th>mean</th>\n",
       "      <td>11.359892</td>\n",
       "      <td>1.684543</td>\n",
       "      <td>2011.742434</td>\n",
       "      <td>14.432672</td>\n",
       "      <td>20.861897</td>\n",
       "    </tr>\n",
       "    <tr>\n",
       "      <th>std</th>\n",
       "      <td>9.901760</td>\n",
       "      <td>1.385995</td>\n",
       "      <td>1.856400</td>\n",
       "      <td>6.225603</td>\n",
       "      <td>383.084863</td>\n",
       "    </tr>\n",
       "    <tr>\n",
       "      <th>min</th>\n",
       "      <td>-52.000000</td>\n",
       "      <td>0.000000</td>\n",
       "      <td>2009.000000</td>\n",
       "      <td>1.000000</td>\n",
       "      <td>0.000000</td>\n",
       "    </tr>\n",
       "    <tr>\n",
       "      <th>25%</th>\n",
       "      <td>6.000000</td>\n",
       "      <td>1.000000</td>\n",
       "      <td>2010.000000</td>\n",
       "      <td>10.000000</td>\n",
       "      <td>1.215603</td>\n",
       "    </tr>\n",
       "    <tr>\n",
       "      <th>50%</th>\n",
       "      <td>8.500000</td>\n",
       "      <td>1.000000</td>\n",
       "      <td>2012.000000</td>\n",
       "      <td>15.000000</td>\n",
       "      <td>2.121658</td>\n",
       "    </tr>\n",
       "    <tr>\n",
       "      <th>75%</th>\n",
       "      <td>12.500000</td>\n",
       "      <td>2.000000</td>\n",
       "      <td>2013.000000</td>\n",
       "      <td>20.000000</td>\n",
       "      <td>3.876386</td>\n",
       "    </tr>\n",
       "    <tr>\n",
       "      <th>max</th>\n",
       "      <td>499.000000</td>\n",
       "      <td>208.000000</td>\n",
       "      <td>2015.000000</td>\n",
       "      <td>24.000000</td>\n",
       "      <td>16414.390364</td>\n",
       "    </tr>\n",
       "  </tbody>\n",
       "</table>\n",
       "</div>"
      ],
      "text/plain": [
       "         Fare_Amount  Passenger_Count           Year           Hour  \\\n",
       "count  199999.000000    199999.000000  199999.000000  199999.000000   \n",
       "mean       11.359892         1.684543    2011.742434      14.432672   \n",
       "std         9.901760         1.385995       1.856400       6.225603   \n",
       "min       -52.000000         0.000000    2009.000000       1.000000   \n",
       "25%         6.000000         1.000000    2010.000000      10.000000   \n",
       "50%         8.500000         1.000000    2012.000000      15.000000   \n",
       "75%        12.500000         2.000000    2013.000000      20.000000   \n",
       "max       499.000000       208.000000    2015.000000      24.000000   \n",
       "\n",
       "         Distance_Km  \n",
       "count  199999.000000  \n",
       "mean       20.861897  \n",
       "std       383.084863  \n",
       "min         0.000000  \n",
       "25%         1.215603  \n",
       "50%         2.121658  \n",
       "75%         3.876386  \n",
       "max     16414.390364  "
      ]
     },
     "execution_count": 18,
     "metadata": {},
     "output_type": "execute_result"
    }
   ],
   "source": [
    "df[['Fare_Amount' , 'Passenger_Count' , 'Year' , 'Hour' , 'Distance_Km']].describe()"
   ]
  },
  {
   "cell_type": "markdown",
   "id": "e861e359",
   "metadata": {},
   "source": [
    "We check that there is '0' value in our target column , which is not logically understandable . So we are storing the values which are not equal to '0' to the 'df'"
   ]
  },
  {
   "cell_type": "code",
   "execution_count": 19,
   "id": "112210bf",
   "metadata": {},
   "outputs": [],
   "source": [
    "df = df[df['Distance_Km'] != 0]"
   ]
  },
  {
   "cell_type": "code",
   "execution_count": 20,
   "id": "01bf4948",
   "metadata": {},
   "outputs": [
    {
     "data": {
      "text/html": [
       "<div>\n",
       "<style scoped>\n",
       "    .dataframe tbody tr th:only-of-type {\n",
       "        vertical-align: middle;\n",
       "    }\n",
       "\n",
       "    .dataframe tbody tr th {\n",
       "        vertical-align: top;\n",
       "    }\n",
       "\n",
       "    .dataframe thead th {\n",
       "        text-align: right;\n",
       "    }\n",
       "</style>\n",
       "<table border=\"1\" class=\"dataframe\">\n",
       "  <thead>\n",
       "    <tr style=\"text-align: right;\">\n",
       "      <th></th>\n",
       "      <th>Keys</th>\n",
       "      <th>Fare_Amount</th>\n",
       "      <th>Pickup_Datetime</th>\n",
       "      <th>Pickup_Longitude</th>\n",
       "      <th>Pickup_Latitude</th>\n",
       "      <th>Dropoff_Longitude</th>\n",
       "      <th>Dropoff_Latitude</th>\n",
       "      <th>Passenger_Count</th>\n",
       "      <th>Year</th>\n",
       "      <th>Month</th>\n",
       "      <th>Hour</th>\n",
       "      <th>Day</th>\n",
       "      <th>Time_Zone</th>\n",
       "      <th>Distance_Km</th>\n",
       "    </tr>\n",
       "  </thead>\n",
       "  <tbody>\n",
       "  </tbody>\n",
       "</table>\n",
       "</div>"
      ],
      "text/plain": [
       "Empty DataFrame\n",
       "Columns: [Keys, Fare_Amount, Pickup_Datetime, Pickup_Longitude, Pickup_Latitude, Dropoff_Longitude, Dropoff_Latitude, Passenger_Count, Year, Month, Hour, Day, Time_Zone, Distance_Km]\n",
       "Index: []"
      ]
     },
     "execution_count": 20,
     "metadata": {},
     "output_type": "execute_result"
    }
   ],
   "source": [
    "df[df['Distance_Km']==0]"
   ]
  },
  {
   "cell_type": "code",
   "execution_count": 21,
   "id": "f964437b",
   "metadata": {},
   "outputs": [
    {
     "data": {
      "text/html": [
       "<div>\n",
       "<style scoped>\n",
       "    .dataframe tbody tr th:only-of-type {\n",
       "        vertical-align: middle;\n",
       "    }\n",
       "\n",
       "    .dataframe tbody tr th {\n",
       "        vertical-align: top;\n",
       "    }\n",
       "\n",
       "    .dataframe thead th {\n",
       "        text-align: right;\n",
       "    }\n",
       "</style>\n",
       "<table border=\"1\" class=\"dataframe\">\n",
       "  <thead>\n",
       "    <tr style=\"text-align: right;\">\n",
       "      <th></th>\n",
       "      <th>Keys</th>\n",
       "      <th>Fare_Amount</th>\n",
       "      <th>Pickup_Longitude</th>\n",
       "      <th>Pickup_Latitude</th>\n",
       "      <th>Dropoff_Longitude</th>\n",
       "      <th>Dropoff_Latitude</th>\n",
       "      <th>Passenger_Count</th>\n",
       "      <th>Year</th>\n",
       "      <th>Hour</th>\n",
       "      <th>Distance_Km</th>\n",
       "    </tr>\n",
       "  </thead>\n",
       "  <tbody>\n",
       "    <tr>\n",
       "      <th>count</th>\n",
       "      <td>1.943670e+05</td>\n",
       "      <td>194367.000000</td>\n",
       "      <td>194367.000000</td>\n",
       "      <td>194367.000000</td>\n",
       "      <td>194367.000000</td>\n",
       "      <td>194367.000000</td>\n",
       "      <td>194367.000000</td>\n",
       "      <td>194367.000000</td>\n",
       "      <td>194367.000000</td>\n",
       "      <td>194367.000000</td>\n",
       "    </tr>\n",
       "    <tr>\n",
       "      <th>mean</th>\n",
       "      <td>2.770608e+07</td>\n",
       "      <td>11.353360</td>\n",
       "      <td>-73.853162</td>\n",
       "      <td>40.665386</td>\n",
       "      <td>-73.850755</td>\n",
       "      <td>40.653048</td>\n",
       "      <td>1.684885</td>\n",
       "      <td>2011.747287</td>\n",
       "      <td>14.431843</td>\n",
       "      <td>21.466393</td>\n",
       "    </tr>\n",
       "    <tr>\n",
       "      <th>std</th>\n",
       "      <td>1.600790e+07</td>\n",
       "      <td>9.753327</td>\n",
       "      <td>5.964735</td>\n",
       "      <td>5.588198</td>\n",
       "      <td>8.833022</td>\n",
       "      <td>4.173640</td>\n",
       "      <td>1.388402</td>\n",
       "      <td>1.860104</td>\n",
       "      <td>6.224938</td>\n",
       "      <td>388.578716</td>\n",
       "    </tr>\n",
       "    <tr>\n",
       "      <th>min</th>\n",
       "      <td>1.000000e+00</td>\n",
       "      <td>-52.000000</td>\n",
       "      <td>-1340.648410</td>\n",
       "      <td>-74.015515</td>\n",
       "      <td>-3356.666300</td>\n",
       "      <td>-881.985513</td>\n",
       "      <td>0.000000</td>\n",
       "      <td>2009.000000</td>\n",
       "      <td>1.000000</td>\n",
       "      <td>0.000084</td>\n",
       "    </tr>\n",
       "    <tr>\n",
       "      <th>25%</th>\n",
       "      <td>1.382723e+07</td>\n",
       "      <td>6.000000</td>\n",
       "      <td>-73.992271</td>\n",
       "      <td>40.736347</td>\n",
       "      <td>-73.991591</td>\n",
       "      <td>40.735213</td>\n",
       "      <td>1.000000</td>\n",
       "      <td>2010.000000</td>\n",
       "      <td>10.000000</td>\n",
       "      <td>1.282146</td>\n",
       "    </tr>\n",
       "    <tr>\n",
       "      <th>50%</th>\n",
       "      <td>2.773069e+07</td>\n",
       "      <td>8.500000</td>\n",
       "      <td>-73.982115</td>\n",
       "      <td>40.753250</td>\n",
       "      <td>-73.980538</td>\n",
       "      <td>40.753705</td>\n",
       "      <td>1.000000</td>\n",
       "      <td>2012.000000</td>\n",
       "      <td>15.000000</td>\n",
       "      <td>2.185042</td>\n",
       "    </tr>\n",
       "    <tr>\n",
       "      <th>75%</th>\n",
       "      <td>4.153670e+07</td>\n",
       "      <td>12.500000</td>\n",
       "      <td>-73.968392</td>\n",
       "      <td>40.767507</td>\n",
       "      <td>-73.965408</td>\n",
       "      <td>40.768312</td>\n",
       "      <td>2.000000</td>\n",
       "      <td>2013.000000</td>\n",
       "      <td>20.000000</td>\n",
       "      <td>3.961412</td>\n",
       "    </tr>\n",
       "    <tr>\n",
       "      <th>max</th>\n",
       "      <td>5.542357e+07</td>\n",
       "      <td>499.000000</td>\n",
       "      <td>57.418457</td>\n",
       "      <td>1644.421482</td>\n",
       "      <td>1153.572603</td>\n",
       "      <td>872.697628</td>\n",
       "      <td>208.000000</td>\n",
       "      <td>2015.000000</td>\n",
       "      <td>24.000000</td>\n",
       "      <td>16414.390364</td>\n",
       "    </tr>\n",
       "  </tbody>\n",
       "</table>\n",
       "</div>"
      ],
      "text/plain": [
       "               Keys    Fare_Amount  Pickup_Longitude  Pickup_Latitude  \\\n",
       "count  1.943670e+05  194367.000000     194367.000000    194367.000000   \n",
       "mean   2.770608e+07      11.353360        -73.853162        40.665386   \n",
       "std    1.600790e+07       9.753327          5.964735         5.588198   \n",
       "min    1.000000e+00     -52.000000      -1340.648410       -74.015515   \n",
       "25%    1.382723e+07       6.000000        -73.992271        40.736347   \n",
       "50%    2.773069e+07       8.500000        -73.982115        40.753250   \n",
       "75%    4.153670e+07      12.500000        -73.968392        40.767507   \n",
       "max    5.542357e+07     499.000000         57.418457      1644.421482   \n",
       "\n",
       "       Dropoff_Longitude  Dropoff_Latitude  Passenger_Count           Year  \\\n",
       "count      194367.000000     194367.000000    194367.000000  194367.000000   \n",
       "mean          -73.850755         40.653048         1.684885    2011.747287   \n",
       "std             8.833022          4.173640         1.388402       1.860104   \n",
       "min         -3356.666300       -881.985513         0.000000    2009.000000   \n",
       "25%           -73.991591         40.735213         1.000000    2010.000000   \n",
       "50%           -73.980538         40.753705         1.000000    2012.000000   \n",
       "75%           -73.965408         40.768312         2.000000    2013.000000   \n",
       "max          1153.572603        872.697628       208.000000    2015.000000   \n",
       "\n",
       "                Hour    Distance_Km  \n",
       "count  194367.000000  194367.000000  \n",
       "mean       14.431843      21.466393  \n",
       "std         6.224938     388.578716  \n",
       "min         1.000000       0.000084  \n",
       "25%        10.000000       1.282146  \n",
       "50%        15.000000       2.185042  \n",
       "75%        20.000000       3.961412  \n",
       "max        24.000000   16414.390364  "
      ]
     },
     "execution_count": 21,
     "metadata": {},
     "output_type": "execute_result"
    }
   ],
   "source": [
    "df.describe()"
   ]
  },
  {
   "cell_type": "code",
   "execution_count": 22,
   "id": "d60ac5ef",
   "metadata": {},
   "outputs": [],
   "source": [
    "# Seeing the Latitude and Longitude COlumns as well..which contain 0 values..\n",
    "df = df[(df['Pickup_Latitude'] != 0) & (df['Pickup_Longitude'] != 0) & (df['Dropoff_Latitude'] != 0) & (df['Dropoff_Longitude'] != 0)]\n",
    "\n",
    "# Remove all the Value that are Containing 0 in their Latitude and Longitude Columns as well.."
   ]
  },
  {
   "cell_type": "code",
   "execution_count": 23,
   "id": "448d8c61",
   "metadata": {},
   "outputs": [
    {
     "data": {
      "text/plain": [
       "Passenger_Count\n",
       "1      134212\n",
       "2       28579\n",
       "5       13569\n",
       "3        8633\n",
       "6        4159\n",
       "4        4148\n",
       "208         1\n",
       "Name: count, dtype: int64"
      ]
     },
     "execution_count": 23,
     "metadata": {},
     "output_type": "execute_result"
    }
   ],
   "source": [
    "# See the OverView of the Top Values\n",
    "df = df[df['Passenger_Count'] != 0]\n",
    "df[\"Passenger_Count\"].value_counts()"
   ]
  },
  {
   "cell_type": "code",
   "execution_count": 24,
   "id": "4b87173d",
   "metadata": {},
   "outputs": [],
   "source": [
    "# There is one person or row that contain Passenger_Count = 208 so we simply remove that row because its wrong data..\n",
    "# Before removing DataSet Size => (193301, 14)\n",
    "df = df[df['Passenger_Count'] != 208]"
   ]
  },
  {
   "cell_type": "code",
   "execution_count": 25,
   "id": "1769d071",
   "metadata": {},
   "outputs": [],
   "source": [
    "df.drop('Pickup_Datetime', inplace=True, axis = 1) # Now we can drop this column because we have extracted and use this column for the feature selection"
   ]
  },
  {
   "cell_type": "markdown",
   "id": "7f37927b",
   "metadata": {},
   "source": [
    "# Starting EDA [Exploratory Data Analysis]\n"
   ]
  },
  {
   "cell_type": "markdown",
   "id": "ec3b4ade",
   "metadata": {},
   "source": [
    "### Uni-Variate Analysis"
   ]
  },
  {
   "cell_type": "code",
   "execution_count": 26,
   "id": "33c5ee87",
   "metadata": {},
   "outputs": [
    {
     "data": {
      "text/plain": [
       "Text(0, 0.5, 'Count')"
      ]
     },
     "execution_count": 26,
     "metadata": {},
     "output_type": "execute_result"
    },
    {
     "data": {
      "image/png": "[encoded data removed]",
      "text/plain": [
       "<Figure size 1000x400 with 1 Axes>"
      ]
     },
     "metadata": {},
     "output_type": "display_data"
    }
   ],
   "source": [
    "plt.figure(figsize=(10,4))\n",
    "ax = sns.countplot(x=df['Passenger_Count'] , data = df , color='skyblue')\n",
    "plt.title('Passenger Frequancy')\n",
    "plt.xlabel('Passenger Count')\n",
    "plt.ylabel('Count')\n"
   ]
  },
  {
   "cell_type": "markdown",
   "id": "3e117336",
   "metadata": {},
   "source": [
    "We can see many people travel solo ."
   ]
  },
  {
   "cell_type": "code",
   "execution_count": 27,
   "id": "bf3c45c7",
   "metadata": {},
   "outputs": [
    {
     "data": {
      "text/plain": [
       "Text(0, 0.5, 'Count')"
      ]
     },
     "execution_count": 27,
     "metadata": {},
     "output_type": "execute_result"
    },
    {
     "data": {
      "image/png": "[encoded data removed]",
      "text/plain": [
       "<Figure size 640x480 with 1 Axes>"
      ]
     },
     "metadata": {},
     "output_type": "display_data"
    }
   ],
   "source": [
    "# See the Order Counts in a Year in a Month or in a Hour as well one by one..\n",
    "ax = sns.countplot(x = df['Year'] , data = df,color='skyblue')\n",
    "plt.title('Year Count')\n",
    "plt.xlabel('Year')\n",
    "plt.ylabel('Count')\n"
   ]
  },
  {
   "cell_type": "markdown",
   "id": "4f90b8d4",
   "metadata": {},
   "source": [
    "By this we came to know that there are only 50% data of the year 2015 as compared to the other year !"
   ]
  },
  {
   "cell_type": "code",
   "execution_count": 28,
   "id": "bb9603f3",
   "metadata": {},
   "outputs": [
    {
     "data": {
      "image/png": "[encoded data removed]",
      "text/plain": [
       "<Figure size 640x480 with 1 Axes>"
      ]
     },
     "metadata": {},
     "output_type": "display_data"
    }
   ],
   "source": [
    "year_counts = df['Year'].value_counts().sort_index()  \n",
    "plt.plot(year_counts.index, year_counts.values, marker='o')  \n",
    "plt.title('Year Count')  \n",
    "plt.xlabel('Year')  \n",
    "plt.ylabel('Count')  \n",
    "plt.xticks(rotation=45)  \n",
    "plt.show() "
   ]
  },
  {
   "cell_type": "code",
   "execution_count": 29,
   "id": "0e437b26",
   "metadata": {},
   "outputs": [
    {
     "data": {
      "text/plain": [
       "Text(0, 0.5, 'Count')"
      ]
     },
     "execution_count": 29,
     "metadata": {},
     "output_type": "execute_result"
    },
    {
     "data": {
      "image/png": "[encoded data removed]",
      "text/plain": [
       "<Figure size 1300x500 with 1 Axes>"
      ]
     },
     "metadata": {},
     "output_type": "display_data"
    }
   ],
   "source": [
    "# See the Frequency of Order in Each Month..\n",
    "plt.figure(figsize=(13,5))\n",
    "ax = sns.countplot(x = df['Month'] , data = df , order=df['Month'].value_counts().index , color='skyblue')\n",
    "plt.title('Month Count')\n",
    "plt.xlabel('Month')\n",
    "plt.ylabel('Count')\n"
   ]
  },
  {
   "cell_type": "code",
   "execution_count": 30,
   "id": "8810eaaa",
   "metadata": {},
   "outputs": [
    {
     "data": {
      "image/png": "[encoded data removed]",
      "text/plain": [
       "<Figure size 1300x500 with 1 Axes>"
      ]
     },
     "metadata": {},
     "output_type": "display_data"
    }
   ],
   "source": [
    "# Assuming df is your DataFrame with a 'Month' column  \n",
    "month_counts = df['Month'].value_counts().sort_index()  \n",
    "\n",
    "plt.figure(figsize=(13, 5))  \n",
    "plt.bar(month_counts.index, month_counts.values, color='skyblue')  \n",
    "plt.title('Month Count')  \n",
    "plt.xlabel('Month')  \n",
    "plt.ylabel('Count')  \n",
    "plt.xticks(rotation=45)  \n",
    "plt.show() "
   ]
  },
  {
   "cell_type": "code",
   "execution_count": 31,
   "id": "398ff517",
   "metadata": {},
   "outputs": [
    {
     "data": {
      "image/png": "[encoded data removed]",
      "text/plain": [
       "<Figure size 1500x600 with 1 Axes>"
      ]
     },
     "metadata": {},
     "output_type": "display_data"
    }
   ],
   "source": [
    "plt.figure(figsize=(15, 6))  \n",
    "ax = sns.countplot(x='Hour', data=df , color='skyblue')  \n",
    "plt.title('Hour Count')  \n",
    "plt.xlabel('Hour')  \n",
    "plt.ylabel('Count')  \n",
    "plt.xticks(rotation=45)  # Optional: Rotate x-axis labels for better readability  \n",
    "plt.show()"
   ]
  },
  {
   "cell_type": "markdown",
   "id": "a3223e74",
   "metadata": {},
   "source": [
    "There are three patch according to me in which time we get the most number of order first patch time was [18,19,20,21,22] and second batch was [13,12,23,14,17,15,11,9] and third batch was [8,10,16,24,7] and remaining time we get the order but not as much.."
   ]
  },
  {
   "cell_type": "code",
   "execution_count": 32,
   "id": "45a52bd0",
   "metadata": {},
   "outputs": [
    {
     "data": {
      "text/plain": [
       "Text(0, 0.5, 'Count')"
      ]
     },
     "execution_count": 32,
     "metadata": {},
     "output_type": "execute_result"
    },
    {
     "data": {
      "image/png": "[encoded data removed]",
      "text/plain": [
       "<Figure size 1000x400 with 1 Axes>"
      ]
     },
     "metadata": {},
     "output_type": "display_data"
    }
   ],
   "source": [
    "# See the Day Wise Numbers of Orders.\n",
    "plt.figure(figsize = (10,4))\n",
    "ax = sns.countplot(x = df['Day'] , data = df,order = df['Day'].value_counts().index, color='skyblue')\n",
    "plt.title('Day Count')\n",
    "plt.xlabel('Day')\n",
    "plt.ylabel('Count')\n"
   ]
  },
  {
   "cell_type": "markdown",
   "id": "e073cbc6",
   "metadata": {},
   "source": [
    "There is not much change on weekend as compared to weekday,there is just a slight diffrence in it ."
   ]
  },
  {
   "cell_type": "code",
   "execution_count": 33,
   "id": "55e90fee",
   "metadata": {},
   "outputs": [
    {
     "data": {
      "text/plain": [
       "Text(0, 0.5, 'Count')"
      ]
     },
     "execution_count": 33,
     "metadata": {},
     "output_type": "execute_result"
    },
    {
     "data": {
      "image/png": "[encoded data removed]",
      "text/plain": [
       "<Figure size 640x480 with 1 Axes>"
      ]
     },
     "metadata": {},
     "output_type": "display_data"
    }
   ],
   "source": [
    "# See the Time Wise Order Frequnecy ..\n",
    "ax = sns.countplot(x = df['Time_Zone'] , data = df , order = df['Time_Zone'].value_counts().index , color='skyblue')\n",
    "plt.title('Time Zone Count')\n",
    "plt.xlabel('Time Zone')\n",
    "plt.ylabel('Count')"
   ]
  },
  {
   "cell_type": "markdown",
   "id": "9019a027",
   "metadata": {},
   "source": [
    "By this we can estimate that evening is the rush timing for the people as it is the combination of the office , casual outing and other people . So in the slot of the evening there should be more availablity of the vehichle ."
   ]
  },
  {
   "cell_type": "code",
   "execution_count": 34,
   "id": "64a33b3a",
   "metadata": {},
   "outputs": [
    {
     "data": {
      "image/png": "[encoded data removed]",
      "text/plain": [
       "<Figure size 800x300 with 1 Axes>"
      ]
     },
     "metadata": {},
     "output_type": "display_data"
    }
   ],
   "source": [
    "plt.figure(figsize=(8, 3))\n",
    "sns.boxplot(x='Fare_Amount', data=df)\n",
    "plt.title('Boxplot using Seaborn')\n",
    "plt.show()"
   ]
  },
  {
   "cell_type": "code",
   "execution_count": 35,
   "id": "c37068c5",
   "metadata": {},
   "outputs": [
    {
     "data": {
      "image/png": "[encoded data removed]",
      "text/plain": [
       "<Figure size 800x300 with 1 Axes>"
      ]
     },
     "metadata": {},
     "output_type": "display_data"
    }
   ],
   "source": [
    "plt.figure(figsize=(8, 3))\n",
    "sns.boxplot(x='Distance_Km', data=df)\n",
    "plt.title('Boxplot using Seaborn')\n",
    "plt.show()"
   ]
  },
  {
   "cell_type": "markdown",
   "id": "84548cc0",
   "metadata": {},
   "source": [
    "We come to know that there are many outliers in th distance km and fare price column . We should treat them ."
   ]
  },
  {
   "cell_type": "code",
   "execution_count": 36,
   "id": "02a81f46",
   "metadata": {},
   "outputs": [],
   "source": [
    "lower_percentile = 1\n",
    "upper_percentile = 99\n",
    "\n",
    "# Calculate the lower and upper bounds\n",
    "lower_bound_distance = df['Distance_Km'].quantile(lower_percentile / 100)\n",
    "upper_bound_distance = df['Distance_Km'].quantile(upper_percentile / 100)\n",
    "\n",
    "lower_bound_fare = df['Fare_Amount'].quantile(lower_percentile / 100)\n",
    "upper_bound_fare = df['Fare_Amount'].quantile(upper_percentile / 100)\n",
    "\n",
    "# Apply capping using clip\n",
    "df['Distance_Km'] = df['Distance_Km'].clip(lower=lower_bound_distance, upper=upper_bound_distance)\n",
    "df['Fare_Amount'] = df['Fare_Amount'].clip(lower=lower_bound_fare, upper=upper_bound_fare)\n"
   ]
  },
  {
   "cell_type": "markdown",
   "id": "c46d7a8e",
   "metadata": {},
   "source": [
    "This code snippet calculates the lower and upper bounds for two DataFrame columns ('Distance_Km' and 'Fare_Amount') based on specified lower and upper percentiles (1% and 99%). It then uses these bounds to cap the values in each column. The quantile method is used to find the values corresponding to the specified percentiles, and clip is applied to ensure that all values in the columns fall within the calculated bounds, effectively limiting any outliers."
   ]
  },
  {
   "cell_type": "code",
   "execution_count": 37,
   "id": "9e889760",
   "metadata": {},
   "outputs": [
    {
     "data": {
      "text/html": [
       "<div>\n",
       "<style scoped>\n",
       "    .dataframe tbody tr th:only-of-type {\n",
       "        vertical-align: middle;\n",
       "    }\n",
       "\n",
       "    .dataframe tbody tr th {\n",
       "        vertical-align: top;\n",
       "    }\n",
       "\n",
       "    .dataframe thead th {\n",
       "        text-align: right;\n",
       "    }\n",
       "</style>\n",
       "<table border=\"1\" class=\"dataframe\">\n",
       "  <thead>\n",
       "    <tr style=\"text-align: right;\">\n",
       "      <th></th>\n",
       "      <th>Fare_Amount</th>\n",
       "      <th>Passenger_Count</th>\n",
       "      <th>Year</th>\n",
       "      <th>Hour</th>\n",
       "      <th>Distance_Km</th>\n",
       "    </tr>\n",
       "  </thead>\n",
       "  <tbody>\n",
       "    <tr>\n",
       "      <th>count</th>\n",
       "      <td>193300.000000</td>\n",
       "      <td>193300.000000</td>\n",
       "      <td>193300.000000</td>\n",
       "      <td>193300.000000</td>\n",
       "      <td>193300.000000</td>\n",
       "    </tr>\n",
       "    <tr>\n",
       "      <th>mean</th>\n",
       "      <td>11.241444</td>\n",
       "      <td>1.689912</td>\n",
       "      <td>2011.746425</td>\n",
       "      <td>14.432747</td>\n",
       "      <td>3.349566</td>\n",
       "    </tr>\n",
       "    <tr>\n",
       "      <th>std</th>\n",
       "      <td>8.943789</td>\n",
       "      <td>1.305639</td>\n",
       "      <td>1.862676</td>\n",
       "      <td>6.225739</td>\n",
       "      <td>3.538159</td>\n",
       "    </tr>\n",
       "    <tr>\n",
       "      <th>min</th>\n",
       "      <td>3.300000</td>\n",
       "      <td>1.000000</td>\n",
       "      <td>2009.000000</td>\n",
       "      <td>1.000000</td>\n",
       "      <td>0.223572</td>\n",
       "    </tr>\n",
       "    <tr>\n",
       "      <th>25%</th>\n",
       "      <td>6.000000</td>\n",
       "      <td>1.000000</td>\n",
       "      <td>2010.000000</td>\n",
       "      <td>10.000000</td>\n",
       "      <td>1.280820</td>\n",
       "    </tr>\n",
       "    <tr>\n",
       "      <th>50%</th>\n",
       "      <td>8.500000</td>\n",
       "      <td>1.000000</td>\n",
       "      <td>2012.000000</td>\n",
       "      <td>15.000000</td>\n",
       "      <td>2.181990</td>\n",
       "    </tr>\n",
       "    <tr>\n",
       "      <th>75%</th>\n",
       "      <td>12.500000</td>\n",
       "      <td>2.000000</td>\n",
       "      <td>2013.000000</td>\n",
       "      <td>20.000000</td>\n",
       "      <td>3.944813</td>\n",
       "    </tr>\n",
       "    <tr>\n",
       "      <th>max</th>\n",
       "      <td>52.040400</td>\n",
       "      <td>6.000000</td>\n",
       "      <td>2015.000000</td>\n",
       "      <td>24.000000</td>\n",
       "      <td>20.462865</td>\n",
       "    </tr>\n",
       "  </tbody>\n",
       "</table>\n",
       "</div>"
      ],
      "text/plain": [
       "         Fare_Amount  Passenger_Count           Year           Hour  \\\n",
       "count  193300.000000    193300.000000  193300.000000  193300.000000   \n",
       "mean       11.241444         1.689912    2011.746425      14.432747   \n",
       "std         8.943789         1.305639       1.862676       6.225739   \n",
       "min         3.300000         1.000000    2009.000000       1.000000   \n",
       "25%         6.000000         1.000000    2010.000000      10.000000   \n",
       "50%         8.500000         1.000000    2012.000000      15.000000   \n",
       "75%        12.500000         2.000000    2013.000000      20.000000   \n",
       "max        52.040400         6.000000    2015.000000      24.000000   \n",
       "\n",
       "         Distance_Km  \n",
       "count  193300.000000  \n",
       "mean        3.349566  \n",
       "std         3.538159  \n",
       "min         0.223572  \n",
       "25%         1.280820  \n",
       "50%         2.181990  \n",
       "75%         3.944813  \n",
       "max        20.462865  "
      ]
     },
     "execution_count": 37,
     "metadata": {},
     "output_type": "execute_result"
    }
   ],
   "source": [
    "df[['Fare_Amount' , 'Passenger_Count' , 'Year' , 'Hour' , 'Distance_Km']].describe()"
   ]
  },
  {
   "cell_type": "code",
   "execution_count": null,
   "id": "1a2ef32b",
   "metadata": {},
   "outputs": [],
   "source": []
  }
 ],
 "metadata": {
  "kernelspec": {
   "display_name": "Python 3 (ipykernel)",
   "language": "python",
   "name": "python3"
  },
  "language_info": {
   "codemirror_mode": {
    "name": "ipython",
    "version": 3
   },
   "file_extension": ".py",
   "mimetype": "text/x-python",
   "name": "python",
   "nbconvert_exporter": "python",
   "pygments_lexer": "ipython3",
   "version": "3.11.5"
  }
 },
 "nbformat": 4,
 "nbformat_minor": 5
}
